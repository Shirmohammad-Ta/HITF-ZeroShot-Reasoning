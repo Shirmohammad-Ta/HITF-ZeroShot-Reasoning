{
 "cells": [
  {
   "cell_type": "markdown",
   "id": "838c640f",
   "metadata": {},
   "source": [
    "# 🤖 HITF Professional Demo\n",
    "This notebook runs a simulated GPT-4 HITF pipeline and visualizes an ablation study."
   ]
  },
  {
   "cell_type": "code",
   "execution_count": null,
   "id": "9d54ffde",
   "metadata": {},
   "outputs": [],
   "source": [
    "# Install dependencies (only if not installed)\n",
    "# !pip install torch matplotlib numpy\n",
    "\n",
    "import torch\n",
    "import numpy as np\n",
    "import matplotlib.pyplot as plt\n"
   ]
  },
  {
   "cell_type": "code",
   "execution_count": null,
   "id": "50a1f576",
   "metadata": {},
   "outputs": [],
   "source": [
    "# Simulate Ablation Study Data\n",
    "methods = [\n",
    "    \"Baseline\", \"Fixed Prompt\", \"Fixed λ\", \"Selector Only\", \"Marginalization Only\", \"Full HITF\"\n",
    "]\n",
    "EM = [72.4, 74.0, 75.2, 76.1, 75.6, 76.5]\n",
    "LC = [76.3, 77.1, 78.4, 80.3, 79.2, 82.7]\n",
    "RD = [4.0, 4.1, 4.2, 4.3, 4.3, 4.5]\n",
    "\n",
    "x = np.arange(len(methods))\n",
    "width = 0.25\n",
    "\n",
    "plt.figure(figsize=(12, 6))\n",
    "plt.bar(x - width, EM, width, label='EM')\n",
    "plt.bar(x, LC, width, label='LC')\n",
    "plt.bar(x + width, RD, width, label='RD')\n",
    "plt.xticks(x, methods, rotation=30)\n",
    "plt.ylabel(\"Score\")\n",
    "plt.title(\"Ablation Study Metrics Comparison\")\n",
    "plt.legend()\n",
    "plt.grid(True, linestyle='--', alpha=0.4)\n",
    "plt.tight_layout()\n",
    "plt.show()\n"
   ]
  },
  {
   "cell_type": "code",
   "execution_count": null,
   "id": "42e8f043",
   "metadata": {},
   "outputs": [],
   "source": [
    "# Simulate GPT-4 HITF pipeline response (placeholder)\n",
    "\n",
    "def mock_gpt_query(prompt):\n",
    "    print(\"🧠 GPT-4 simulated answering...\")\n",
    "    return \"Answer: 42\"\n",
    "\n",
    "question = \"What is the result of 12 * (3 + 2)?\"\n",
    "support_set = [\n",
    "    {\"question\": \"What is 2 * (5 + 1)?\", \"answer\": \"12\"},\n",
    "    {\"question\": \"What is 10 * 2?\", \"answer\": \"20\"},\n",
    "    {\"question\": \"What is 3 * (4 + 1)?\", \"answer\": \"15\"},\n",
    "    {\"question\": \"What is 6 * (2 + 1)?\", \"answer\": \"18\"}\n",
    "]\n",
    "\n",
    "# Construct prompt\n",
    "prompt = \"\"\n",
    "for ex in support_set:\n",
    "    prompt += f\"Q: {ex['question']}\\nA: {ex['answer']}\\n\\n\"\n",
    "prompt += f\"Q: {question}\\nA:\"\n",
    "\n",
    "# Simulated GPT-4 response\n",
    "response = mock_gpt_query(prompt)\n",
    "print(response)\n"
   ]
  },
  {
   "cell_type": "markdown",
   "id": "1157b55f",
   "metadata": {},
   "source": [
    "🎯 This simulation demonstrates both performance metrics and a GPT-style prediction under HITF logic. You can replace `mock_gpt_query()` with actual OpenAI API calls for real inference."
   ]
  }
 ],
 "metadata": {},
 "nbformat": 4,
 "nbformat_minor": 5
}
