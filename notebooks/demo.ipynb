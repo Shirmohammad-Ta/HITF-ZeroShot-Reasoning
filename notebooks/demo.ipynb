{
 "cells": [
  {
   "cell_type": "markdown",
   "id": "1335ed46",
   "metadata": {},
   "source": [
    "# 🔍 HITF Demo Notebook\n",
    "This notebook demonstrates how to run the Hybrid Instruction Tuning Framework (HITF) on a sample query."
   ]
  },
  {
   "cell_type": "code",
   "execution_count": null,
   "id": "28d86bf7",
   "metadata": {},
   "outputs": [],
   "source": [
    "# Install dependencies (if needed)\n",
    "# !pip install torch transformers scikit-learn tqdm matplotlib peft sentence-transformers"
   ]
  },
  {
   "cell_type": "code",
   "execution_count": null,
   "id": "f190c435",
   "metadata": {},
   "outputs": [],
   "source": [
    "import json\n",
    "import torch\n",
    "from hitf.runner import run_HITF\n",
    "from hitf.model_selector import Selector\n",
    "\n",
    "# Dummy encoder\n",
    "class DummyEncoder:\n",
    "    def __call__(self, text):\n",
    "        return torch.rand(768)  # Random embedding\n",
    "\n",
    "# Dummy LLM interface\n",
    "class DummyModel:\n",
    "    def generate_answer(self, prompt):\n",
    "        return \"42\"\n",
    "    def get_confidence(self, prompt, answer):\n",
    "        return 0.9\n",
    "\n",
    "# Load example data\n",
    "with open(\"../data/human_examples.json\") as f:\n",
    "    human_data = json.load(f)\n",
    "with open(\"../data/self_generated.json\") as f:\n",
    "    self_data = json.load(f)\n",
    "\n",
    "encoder = DummyEncoder()\n",
    "selector = Selector()\n",
    "model = DummyModel()\n",
    "\n",
    "x = \"What is the answer to life, the universe, and everything?\"\n",
    "pred = run_HITF(model, x, encoder, selector, human_data, self_data, k=4)\n",
    "print(\"🔮 Prediction:\", pred)\n"
   ]
  },
  {
   "cell_type": "markdown",
   "id": "e26f24ad",
   "metadata": {},
   "source": [
    "This simple test demonstrates the HITF logic with dummy model. To run with real models like GPT or T5, integrate with `transformers` API or `OpenAI` API for GPT-4."
   ]
  }
 ],
 "metadata": {},
 "nbformat": 4,
 "nbformat_minor": 5
}
